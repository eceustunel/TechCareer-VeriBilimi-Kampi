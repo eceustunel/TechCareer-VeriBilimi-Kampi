{
 "cells": [
  {
   "cell_type": "markdown",
   "id": "2c915bba-cdac-4e5c-836d-95d84241f473",
   "metadata": {},
   "source": [
    "## Numpy Bölümü"
   ]
  },
  {
   "cell_type": "code",
   "execution_count": 1,
   "id": "c472223d-fc75-4fbe-9d78-627900ca326a",
   "metadata": {},
   "outputs": [
    {
     "name": "stdout",
     "output_type": "stream",
     "text": [
      "Matris:\n",
      " [[100  66  13  75  84]\n",
      " [ 71   8  36  16  18]\n",
      " [ 54  89  96  82  48]\n",
      " [ 59  15  25  32  24]\n",
      " [ 13  50  97  78   3]]\n",
      "Ortalama: 50.08\n",
      "Standart Sapma: 31.413271080866444\n",
      "Varyans: 986.7936\n",
      "En Küçük Değer: 3\n",
      "En Büyük Değer: 100\n"
     ]
    }
   ],
   "source": [
    "# Numpy ile Matris İşlemleri\n",
    "import numpy as np\n",
    "\n",
    "matrix = np.random.randint(0, 101, size=(5,5))\n",
    "print(\"Matris:\\n\", matrix) #5x5 boyutunda rastgele (0,100 arasında) tam sayılardan oluşan matris\n",
    "\n",
    "mean_value = np.mean(matrix)\n",
    "print(\"Ortalama:\", mean_value) #ortalama\n",
    "\n",
    "std_value = np.std(matrix)\n",
    "print(\"Standart Sapma:\", std_value) #standart sapma\n",
    "\n",
    "var_value = np.var(matrix)\n",
    "print(\"Varyans:\", var_value) #varyans\n",
    "\n",
    "min_value = np.min(matrix)\n",
    "print(\"En Küçük Değer:\", min_value) #en küçük değer\n",
    "\n",
    "max_value = np.max(matrix)\n",
    "print(\"En Büyük Değer:\", max_value) #en büyük değer"
   ]
  },
  {
   "cell_type": "code",
   "execution_count": 2,
   "id": "0b6ba3d6-7be9-44f1-90d4-5b8c9545cc1b",
   "metadata": {},
   "outputs": [
    {
     "name": "stdout",
     "output_type": "stream",
     "text": [
      "İlk 100 puan: [69 63 86 55 32 44 57 29 36 55 54 46 33 20 49 47 41 76 36 49 47 29 33 58\n",
      " 21 90 38 53 75 72 43 42 58 70 52 61 37 85 72 61 41 31 41 65 56 43 61 34\n",
      " 50 44 69 45 61 54 58 34 55 48 64 12 51 53 36 63 65 57 66 40 38 98 58 68\n",
      " 55 47 61 72 42 57 37 55 30 37 60 62 46 49 96 29 32 28 48 69 46 70 64 41\n",
      " 44 44 33 60]\n",
      "Ortalama: 49.991\n",
      "Medyan: 49.0\n",
      "Standart Sapma: 15.115717614456814\n",
      "50'den düşük alan öğrenci sayısı: 502\n"
     ]
    }
   ],
   "source": [
    "# Numpy ile Veri Simülasyonu\n",
    "scores = np.random.normal(loc=50, scale=15, size=1000) #1000 öğrencinin 0-100 arasında normal dağılımdan gelen sınav puanlarını simüle et\n",
    "scores = np.clip(scores, 0, 100) #0-100 aralığına sınırla\n",
    "scores = scores.astype(int) #tam sayıya çevir\n",
    "\n",
    "print(\"İlk 100 puan:\", scores[:100])\n",
    "\n",
    "mean_score = np.mean(scores)\n",
    "print(\"Ortalama:\", mean_score) #ortalama\n",
    "\n",
    "median_score = np.median(scores)\n",
    "print(\"Medyan:\", median_score) #medyan\n",
    "\n",
    "std_score = np.std(scores)\n",
    "print(\"Standart Sapma:\", std_score) #standart sapma\n",
    "\n",
    "low_scores = np.sum(scores < 50)\n",
    "print(\"50'den düşük alan öğrenci sayısı:\", low_scores) #50'den düşük alan öğrenci sayısı"
   ]
  },
  {
   "cell_type": "markdown",
   "id": "17385f86-ed5c-416a-85aa-06620ada6805",
   "metadata": {},
   "source": [
    "## Pandas Bölümü"
   ]
  },
  {
   "cell_type": "code",
   "execution_count": 3,
   "id": "4fd9e23c-267a-4401-90f2-0267dca2d010",
   "metadata": {},
   "outputs": [
    {
     "data": {
      "text/html": [
       "<div>\n",
       "<style scoped>\n",
       "    .dataframe tbody tr th:only-of-type {\n",
       "        vertical-align: middle;\n",
       "    }\n",
       "\n",
       "    .dataframe tbody tr th {\n",
       "        vertical-align: top;\n",
       "    }\n",
       "\n",
       "    .dataframe thead th {\n",
       "        text-align: right;\n",
       "    }\n",
       "</style>\n",
       "<table border=\"1\" class=\"dataframe\">\n",
       "  <thead>\n",
       "    <tr style=\"text-align: right;\">\n",
       "      <th></th>\n",
       "      <th>Öğrenci</th>\n",
       "      <th>Yaş</th>\n",
       "      <th>Bölüm</th>\n",
       "      <th>Matematik</th>\n",
       "      <th>Fizik</th>\n",
       "      <th>Kimya</th>\n",
       "    </tr>\n",
       "  </thead>\n",
       "  <tbody>\n",
       "    <tr>\n",
       "      <th>0</th>\n",
       "      <td>Ali</td>\n",
       "      <td>20</td>\n",
       "      <td>Bilgisayar</td>\n",
       "      <td>70</td>\n",
       "      <td>65</td>\n",
       "      <td>80</td>\n",
       "    </tr>\n",
       "    <tr>\n",
       "      <th>1</th>\n",
       "      <td>Ayşe</td>\n",
       "      <td>21</td>\n",
       "      <td>Fizik</td>\n",
       "      <td>60</td>\n",
       "      <td>75</td>\n",
       "      <td>85</td>\n",
       "    </tr>\n",
       "    <tr>\n",
       "      <th>2</th>\n",
       "      <td>Mehmet</td>\n",
       "      <td>19</td>\n",
       "      <td>Kimya</td>\n",
       "      <td>80</td>\n",
       "      <td>70</td>\n",
       "      <td>65</td>\n",
       "    </tr>\n",
       "    <tr>\n",
       "      <th>3</th>\n",
       "      <td>Zeynep</td>\n",
       "      <td>22</td>\n",
       "      <td>Bilgisayar</td>\n",
       "      <td>90</td>\n",
       "      <td>85</td>\n",
       "      <td>95</td>\n",
       "    </tr>\n",
       "    <tr>\n",
       "      <th>4</th>\n",
       "      <td>Ahmet</td>\n",
       "      <td>20</td>\n",
       "      <td>Fizik</td>\n",
       "      <td>55</td>\n",
       "      <td>60</td>\n",
       "      <td>70</td>\n",
       "    </tr>\n",
       "  </tbody>\n",
       "</table>\n",
       "</div>"
      ],
      "text/plain": [
       "  Öğrenci  Yaş       Bölüm  Matematik  Fizik  Kimya\n",
       "0     Ali   20  Bilgisayar         70     65     80\n",
       "1    Ayşe   21       Fizik         60     75     85\n",
       "2  Mehmet   19       Kimya         80     70     65\n",
       "3  Zeynep   22  Bilgisayar         90     85     95\n",
       "4   Ahmet   20       Fizik         55     60     70"
      ]
     },
     "metadata": {},
     "output_type": "display_data"
    }
   ],
   "source": [
    "#veri setini DataFrame olarak oluştur\n",
    "import pandas as pd\n",
    "from IPython.display import display\n",
    "\n",
    "data = {\n",
    "    'Öğrenci': ['Ali', 'Ayşe', 'Mehmet', 'Zeynep', 'Ahmet'],\n",
    "    'Yaş': [20, 21, 19, 22, 20],\n",
    "    'Bölüm': ['Bilgisayar', 'Fizik', 'Kimya', 'Bilgisayar', 'Fizik'],\n",
    "    'Matematik': [70, 60, 80, 90, 55],\n",
    "    'Fizik': [65, 75, 70, 85, 60],\n",
    "    'Kimya': [80, 85, 65, 95, 70]\n",
    "}\n",
    "\n",
    "df = pd.DataFrame(data)\n",
    "display(df)"
   ]
  },
  {
   "cell_type": "code",
   "execution_count": 4,
   "id": "b194f808-9a79-46b8-bfd7-32e5186d28d1",
   "metadata": {},
   "outputs": [
    {
     "data": {
      "text/html": [
       "<div>\n",
       "<style scoped>\n",
       "    .dataframe tbody tr th:only-of-type {\n",
       "        vertical-align: middle;\n",
       "    }\n",
       "\n",
       "    .dataframe tbody tr th {\n",
       "        vertical-align: top;\n",
       "    }\n",
       "\n",
       "    .dataframe thead th {\n",
       "        text-align: right;\n",
       "    }\n",
       "</style>\n",
       "<table border=\"1\" class=\"dataframe\">\n",
       "  <thead>\n",
       "    <tr style=\"text-align: right;\">\n",
       "      <th></th>\n",
       "      <th>Ortalama</th>\n",
       "    </tr>\n",
       "  </thead>\n",
       "  <tbody>\n",
       "    <tr>\n",
       "      <th>Matematik</th>\n",
       "      <td>71.0</td>\n",
       "    </tr>\n",
       "    <tr>\n",
       "      <th>Fizik</th>\n",
       "      <td>71.0</td>\n",
       "    </tr>\n",
       "    <tr>\n",
       "      <th>Kimya</th>\n",
       "      <td>79.0</td>\n",
       "    </tr>\n",
       "  </tbody>\n",
       "</table>\n",
       "</div>"
      ],
      "text/plain": [
       "           Ortalama\n",
       "Matematik      71.0\n",
       "Fizik          71.0\n",
       "Kimya          79.0"
      ]
     },
     "metadata": {},
     "output_type": "display_data"
    }
   ],
   "source": [
    "#her dersin ortalama puanını bul\n",
    "ortalama_puan = pd.DataFrame(df[['Matematik', 'Fizik', 'Kimya']].mean(), columns=['Ortalama'])\n",
    "display(ortalama_puan)"
   ]
  },
  {
   "cell_type": "code",
   "execution_count": 5,
   "id": "3c7ad827-77c3-4eac-8d81-88354f11de88",
   "metadata": {},
   "outputs": [
    {
     "name": "stdout",
     "output_type": "stream",
     "text": [
      "En yüksek matematik notu alan öğrenci: Zeynep \n",
      "\n"
     ]
    }
   ],
   "source": [
    "#en yüksek matematik notunu alan öğrenciyi bul\n",
    "en_yuksek_matematik = df.loc[df['Matematik'].idxmax(), 'Öğrenci']\n",
    "print(\"En yüksek matematik notu alan öğrenci:\", en_yuksek_matematik, \"\\n\")"
   ]
  },
  {
   "cell_type": "code",
   "execution_count": 6,
   "id": "83a9e0cf-d1f2-4ec9-a316-d0dfd3f02702",
   "metadata": {},
   "outputs": [
    {
     "data": {
      "text/html": [
       "<div>\n",
       "<style scoped>\n",
       "    .dataframe tbody tr th:only-of-type {\n",
       "        vertical-align: middle;\n",
       "    }\n",
       "\n",
       "    .dataframe tbody tr th {\n",
       "        vertical-align: top;\n",
       "    }\n",
       "\n",
       "    .dataframe thead th {\n",
       "        text-align: right;\n",
       "    }\n",
       "</style>\n",
       "<table border=\"1\" class=\"dataframe\">\n",
       "  <thead>\n",
       "    <tr style=\"text-align: right;\">\n",
       "      <th></th>\n",
       "      <th>Öğrenci</th>\n",
       "      <th>Yaş</th>\n",
       "      <th>Bölüm</th>\n",
       "      <th>Matematik</th>\n",
       "      <th>Fizik</th>\n",
       "      <th>Kimya</th>\n",
       "      <th>Ortalama</th>\n",
       "    </tr>\n",
       "  </thead>\n",
       "  <tbody>\n",
       "    <tr>\n",
       "      <th>0</th>\n",
       "      <td>Ali</td>\n",
       "      <td>20</td>\n",
       "      <td>Bilgisayar</td>\n",
       "      <td>70</td>\n",
       "      <td>65</td>\n",
       "      <td>80</td>\n",
       "      <td>71.666667</td>\n",
       "    </tr>\n",
       "    <tr>\n",
       "      <th>1</th>\n",
       "      <td>Ayşe</td>\n",
       "      <td>21</td>\n",
       "      <td>Fizik</td>\n",
       "      <td>60</td>\n",
       "      <td>75</td>\n",
       "      <td>85</td>\n",
       "      <td>73.333333</td>\n",
       "    </tr>\n",
       "    <tr>\n",
       "      <th>2</th>\n",
       "      <td>Mehmet</td>\n",
       "      <td>19</td>\n",
       "      <td>Kimya</td>\n",
       "      <td>80</td>\n",
       "      <td>70</td>\n",
       "      <td>65</td>\n",
       "      <td>71.666667</td>\n",
       "    </tr>\n",
       "    <tr>\n",
       "      <th>3</th>\n",
       "      <td>Zeynep</td>\n",
       "      <td>22</td>\n",
       "      <td>Bilgisayar</td>\n",
       "      <td>90</td>\n",
       "      <td>85</td>\n",
       "      <td>95</td>\n",
       "      <td>90.000000</td>\n",
       "    </tr>\n",
       "    <tr>\n",
       "      <th>4</th>\n",
       "      <td>Ahmet</td>\n",
       "      <td>20</td>\n",
       "      <td>Fizik</td>\n",
       "      <td>55</td>\n",
       "      <td>60</td>\n",
       "      <td>70</td>\n",
       "      <td>61.666667</td>\n",
       "    </tr>\n",
       "  </tbody>\n",
       "</table>\n",
       "</div>"
      ],
      "text/plain": [
       "  Öğrenci  Yaş       Bölüm  Matematik  Fizik  Kimya   Ortalama\n",
       "0     Ali   20  Bilgisayar         70     65     80  71.666667\n",
       "1    Ayşe   21       Fizik         60     75     85  73.333333\n",
       "2  Mehmet   19       Kimya         80     70     65  71.666667\n",
       "3  Zeynep   22  Bilgisayar         90     85     95  90.000000\n",
       "4   Ahmet   20       Fizik         55     60     70  61.666667"
      ]
     },
     "metadata": {},
     "output_type": "display_data"
    }
   ],
   "source": [
    "#her öğrencinin not ortalamasını hesaplayan yeni bir sütun ekle\n",
    "df['Ortalama'] = df[['Matematik', 'Fizik', 'Kimya']].mean(axis=1)\n",
    "display(df)"
   ]
  },
  {
   "cell_type": "code",
   "execution_count": 7,
   "id": "bcc33a49-f028-4991-999d-31347b511ffa",
   "metadata": {},
   "outputs": [
    {
     "data": {
      "text/html": [
       "<div>\n",
       "<style scoped>\n",
       "    .dataframe tbody tr th:only-of-type {\n",
       "        vertical-align: middle;\n",
       "    }\n",
       "\n",
       "    .dataframe tbody tr th {\n",
       "        vertical-align: top;\n",
       "    }\n",
       "\n",
       "    .dataframe thead th {\n",
       "        text-align: right;\n",
       "    }\n",
       "</style>\n",
       "<table border=\"1\" class=\"dataframe\">\n",
       "  <thead>\n",
       "    <tr style=\"text-align: right;\">\n",
       "      <th></th>\n",
       "      <th>Matematik</th>\n",
       "      <th>Fizik</th>\n",
       "      <th>Kimya</th>\n",
       "      <th>Ortalama</th>\n",
       "    </tr>\n",
       "    <tr>\n",
       "      <th>Bölüm</th>\n",
       "      <th></th>\n",
       "      <th></th>\n",
       "      <th></th>\n",
       "      <th></th>\n",
       "    </tr>\n",
       "  </thead>\n",
       "  <tbody>\n",
       "    <tr>\n",
       "      <th>Bilgisayar</th>\n",
       "      <td>80.0</td>\n",
       "      <td>75.0</td>\n",
       "      <td>87.5</td>\n",
       "      <td>80.833333</td>\n",
       "    </tr>\n",
       "    <tr>\n",
       "      <th>Fizik</th>\n",
       "      <td>57.5</td>\n",
       "      <td>67.5</td>\n",
       "      <td>77.5</td>\n",
       "      <td>67.500000</td>\n",
       "    </tr>\n",
       "    <tr>\n",
       "      <th>Kimya</th>\n",
       "      <td>80.0</td>\n",
       "      <td>70.0</td>\n",
       "      <td>65.0</td>\n",
       "      <td>71.666667</td>\n",
       "    </tr>\n",
       "  </tbody>\n",
       "</table>\n",
       "</div>"
      ],
      "text/plain": [
       "            Matematik  Fizik  Kimya   Ortalama\n",
       "Bölüm                                         \n",
       "Bilgisayar       80.0   75.0   87.5  80.833333\n",
       "Fizik            57.5   67.5   77.5  67.500000\n",
       "Kimya            80.0   70.0   65.0  71.666667"
      ]
     },
     "metadata": {},
     "output_type": "display_data"
    }
   ],
   "source": [
    "#bölümlere göre gruplayarak her bölümün ortalama başarılarını hesapla\n",
    "bolum_ortalama = df.groupby('Bölüm')[['Matematik', 'Fizik', 'Kimya', 'Ortalama']].mean()\n",
    "display(bolum_ortalama)"
   ]
  },
  {
   "cell_type": "code",
   "execution_count": 8,
   "id": "e47c1d37-279f-4951-8a62-ad5a549f34d8",
   "metadata": {},
   "outputs": [
    {
     "data": {
      "text/html": [
       "<div>\n",
       "<style scoped>\n",
       "    .dataframe tbody tr th:only-of-type {\n",
       "        vertical-align: middle;\n",
       "    }\n",
       "\n",
       "    .dataframe tbody tr th {\n",
       "        vertical-align: top;\n",
       "    }\n",
       "\n",
       "    .dataframe thead th {\n",
       "        text-align: right;\n",
       "    }\n",
       "</style>\n",
       "<table border=\"1\" class=\"dataframe\">\n",
       "  <thead>\n",
       "    <tr style=\"text-align: right;\">\n",
       "      <th></th>\n",
       "      <th>Öğrenci</th>\n",
       "      <th>Yaş</th>\n",
       "      <th>Bölüm</th>\n",
       "      <th>Matematik</th>\n",
       "      <th>Fizik</th>\n",
       "      <th>Kimya</th>\n",
       "      <th>Ortalama</th>\n",
       "    </tr>\n",
       "  </thead>\n",
       "  <tbody>\n",
       "    <tr>\n",
       "      <th>0</th>\n",
       "      <td>Ali</td>\n",
       "      <td>20</td>\n",
       "      <td>Bilgisayar</td>\n",
       "      <td>70</td>\n",
       "      <td>65</td>\n",
       "      <td>80</td>\n",
       "      <td>71.666667</td>\n",
       "    </tr>\n",
       "    <tr>\n",
       "      <th>1</th>\n",
       "      <td>Ayşe</td>\n",
       "      <td>21</td>\n",
       "      <td>Fizik</td>\n",
       "      <td>60</td>\n",
       "      <td>75</td>\n",
       "      <td>85</td>\n",
       "      <td>73.333333</td>\n",
       "    </tr>\n",
       "    <tr>\n",
       "      <th>2</th>\n",
       "      <td>Mehmet</td>\n",
       "      <td>19</td>\n",
       "      <td>Kimya</td>\n",
       "      <td>80</td>\n",
       "      <td>70</td>\n",
       "      <td>65</td>\n",
       "      <td>71.666667</td>\n",
       "    </tr>\n",
       "    <tr>\n",
       "      <th>3</th>\n",
       "      <td>Zeynep</td>\n",
       "      <td>22</td>\n",
       "      <td>Bilgisayar</td>\n",
       "      <td>90</td>\n",
       "      <td>85</td>\n",
       "      <td>95</td>\n",
       "      <td>90.000000</td>\n",
       "    </tr>\n",
       "  </tbody>\n",
       "</table>\n",
       "</div>"
      ],
      "text/plain": [
       "  Öğrenci  Yaş       Bölüm  Matematik  Fizik  Kimya   Ortalama\n",
       "0     Ali   20  Bilgisayar         70     65     80  71.666667\n",
       "1    Ayşe   21       Fizik         60     75     85  73.333333\n",
       "2  Mehmet   19       Kimya         80     70     65  71.666667\n",
       "3  Zeynep   22  Bilgisayar         90     85     95  90.000000"
      ]
     },
     "metadata": {},
     "output_type": "display_data"
    }
   ],
   "source": [
    "#ortalaması 70’in üzerinde olan öğrencileri filtrele\n",
    "basarili_ogrenciler = df[df['Ortalama'] > 70]\n",
    "display(basarili_ogrenciler)"
   ]
  },
  {
   "cell_type": "markdown",
   "id": "0c6f2803-a738-4141-bd23-e591a51ff499",
   "metadata": {},
   "source": [
    "## Matplotlib ve Seaborn Bölümü "
   ]
  },
  {
   "cell_type": "code",
   "execution_count": 9,
   "id": "c65b2c00-f200-426b-8cb4-3c0e0a322b72",
   "metadata": {},
   "outputs": [
    {
     "data": {
      "image/png": "[encoded data removed]",
      "text/plain": [
       "<Figure size 1400x400 with 3 Axes>"
      ]
     },
     "metadata": {},
     "output_type": "display_data"
    }
   ],
   "source": [
    "#her dersin dağılımını histogram ile göster\n",
    "import matplotlib.pyplot as plt\n",
    "import seaborn as sns\n",
    "\n",
    "sns.set_style(\"whitegrid\") #beuaz grid arka plan\n",
    "plt.figure(figsize=(14,4)) #grafik boyutu(14x4)\n",
    "\n",
    "dersler = ['Matematik', 'Fizik', 'Kimya']\n",
    "renkler = ['#FF9999','#99FF99','#9999FF'] #her ders için renk\n",
    "\n",
    "for i, (ders, renk) in enumerate(zip(dersler, renkler), 1):\n",
    "    plt.subplot(1, 3, i)\n",
    "    sns.histplot(df[ders], bins=5, kde=True, color=renk) #histogram + KDE çizimi\n",
    "    plt.title(f'{ders} Dağılımı', fontsize=12)\n",
    "    plt.xlabel('Not', fontsize=10) #x ekseni\n",
    "    plt.ylabel('Öğrenci Sayısı', fontsize=10) #y ekseni\n",
    "    for j in df[ders]:\n",
    "        plt.axvline(j, color='grey', linestyle='--', linewidth=0.5)  # notları çizgi ile göster\n",
    "\n",
    "plt.tight_layout() #grafikler arası boşluk bırak ve layout oluştur\n",
    "plt.show()"
   ]
  },
  {
   "cell_type": "code",
   "execution_count": 10,
   "id": "92367ded-681c-4cf5-836f-8a386c66a282",
   "metadata": {},
   "outputs": [
    {
     "data": {
      "image/png": "[encoded data removed]",
      "text/plain": [
       "<Figure size 800x500 with 1 Axes>"
      ]
     },
     "metadata": {},
     "output_type": "display_data"
    }
   ],
   "source": [
    "#bölümlere göre ortalamaları bar grafikte göster\n",
    "bolum_ortalama = df.groupby('Bölüm')[['Matematik', 'Fizik', 'Kimya']].mean().reset_index()\n",
    "bolum_ortalama_melt = bolum_ortalama.melt(\n",
    "    id_vars='Bölüm', #sabit kolon\n",
    "    var_name='Ders', #yeni kolon\n",
    "    value_name='Ortalama') #yeni kolon\n",
    "\n",
    "plt.figure(figsize=(8,5)) #grafik boyutu\n",
    "sns.barplot(data=bolum_ortalama_melt, x='Bölüm', y='Ortalama', hue='Ders', palette='pastel') #bar grafiği oluştur\n",
    "\n",
    "plt.title('Bölümlere Göre Ders Ortalamaları', fontsize=14) \n",
    "plt.ylabel('Ortalama Not', fontsize=12)\n",
    "plt.ylim(0, 100) #y ekseni 0-100 aralığında\n",
    "\n",
    "#her çubuğun üstüne değer etiketi ekle\n",
    "for p in plt.gca().patches:\n",
    "    height = p.get_height()\n",
    "    plt.gca().annotate(f'{height:.1f}', \n",
    "                       (p.get_x() + p.get_width()/2., height), \n",
    "                       ha='center', va='bottom', fontsize=10)\n",
    "\n",
    "plt.legend(title='Ders')\n",
    "plt.show()"
   ]
  }
 ],
 "metadata": {
  "kernelspec": {
   "display_name": "Python 3 (ipykernel)",
   "language": "python",
   "name": "python3"
  },
  "language_info": {
   "codemirror_mode": {
    "name": "ipython",
    "version": 3
   },
   "file_extension": ".py",
   "mimetype": "text/x-python",
   "name": "python",
   "nbconvert_exporter": "python",
   "pygments_lexer": "ipython3",
   "version": "3.13.1"
  }
 },
 "nbformat": 4,
 "nbformat_minor": 5
}
