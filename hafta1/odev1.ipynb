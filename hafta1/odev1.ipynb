{
 "cells": [
  {
   "cell_type": "markdown",
   "id": "523fa81c-36c9-4582-8293-ef52f2a5bd51",
   "metadata": {},
   "source": [
    "# Soru 1: Kullanıcıdan ad, yaş ve boy alma"
   ]
  },
  {
   "cell_type": "code",
   "execution_count": null,
   "id": "bce98029-438d-411c-b5b4-3c7db0fc624b",
   "metadata": {},
   "outputs": [],
   "source": [
    "ad = input(\"Adınızı giriniz:\")\n",
    "yas = int(input(\"Yaşınızı giriniz:\"))\n",
    "boy = float(input(\"Boyunuzu metre cinsinden giriniz:\"))\n",
    "\n",
    "print(f\"Merhaba {ad}, {yas} yaşındasınız ve boyunuz {boy} metredir.\")"
   ]
  },
  {
   "cell_type": "markdown",
   "id": "ce3cf4a7-d66a-4642-ae71-62c75e888d99",
   "metadata": {},
   "source": [
    "# Soru 2: Not ortalaması "
   ]
  },
  {
   "cell_type": "code",
   "execution_count": null,
   "id": "63019c2f-1f97-421f-b79c-6a572fa649ee",
   "metadata": {},
   "outputs": [],
   "source": [
    "matematik= int(input(\"Matematik notunu giriniz:\"))\n",
    "fizik= int(input(\"Fizik notunu giriniz:\"))\n",
    "kimya= int(input(\"Kimya notunu giriniz:\"))\n",
    "\n",
    "ortalama= (matematik + fizik + kimya) / 3\n",
    "print(f\"Not ortalamanız: {ortalama:.2f}\")"
   ]
  },
  {
   "cell_type": "markdown",
   "id": "c3f47989-e133-4f47-b6ae-1d7a03ef245e",
   "metadata": {},
   "source": [
    "# Soru 3: String işlemleri"
   ]
  },
  {
   "cell_type": "code",
   "execution_count": null,
   "id": "836f021f-c0ae-4daf-8cf4-05e5f287915f",
   "metadata": {},
   "outputs": [],
   "source": [
    "metin = \"ProvisionPay\"\n",
    "\n",
    "print (\"İlk karakter:\", metin[0])\n",
    "print (\"Son karakter:\", metin[-1])\n",
    "print (\"Uzunluğu:\", len(metin))\n",
    "print (\"Ters çevrilmiş hali:\", metin[::-1])"
   ]
  },
  {
   "cell_type": "markdown",
   "id": "15256b81-8b3f-4d75-b337-d242ec033b3c",
   "metadata": {},
   "source": [
    "# Soru 4: İki sayı üzerinde işlemler"
   ]
  },
  {
   "cell_type": "code",
   "execution_count": null,
   "id": "0565c741-dc7c-462c-989c-f27e7bb95e6d",
   "metadata": {},
   "outputs": [],
   "source": [
    "sayi1= int(input(\"Birinci sayıyı giriniz:\"))\n",
    "sayi2= int(input(\"İkinci sayıyı giriniz:\"))\n",
    "\n",
    "print(\"Toplama:\", sayi1 + sayi2)\n",
    "print(\"Çıkarma:\", sayi1 - sayi2)\n",
    "print(\"Çarpma:\", sayi1 * sayi2)\n",
    "print(\"Bölme:\", sayi1 / sayi2)\n",
    "print(\"Mod:\", sayi1 % sayi2)"
   ]
  },
  {
   "cell_type": "markdown",
   "id": "032d7136-59a0-428e-8231-120b6d5965b0",
   "metadata": {},
   "source": [
    "# Soru 5: Ortalamaya göre geçme/kalma"
   ]
  },
  {
   "cell_type": "code",
   "execution_count": null,
   "id": "424811d3-bae5-4f46-a6b3-369b3a20d585",
   "metadata": {},
   "outputs": [],
   "source": [
    "ortalama= float(input(\"Ortalamanızı giriniz:\"))\n",
    "\n",
    "if ortalama > 50:\n",
    "    print(\"Geçti\")\n",
    "else:\n",
    "    print(\"Kaldı\") "
   ]
  },
  {
   "cell_type": "markdown",
   "id": "5a9c6833-c07e-49d5-812d-e5b5f663fe5a",
   "metadata": {},
   "source": [
    "# Soru 6: Ehliyet kontrolü"
   ]
  },
  {
   "cell_type": "code",
   "execution_count": null,
   "id": "c2b0d304-358d-4b96-86ae-455c1c9150cb",
   "metadata": {},
   "outputs": [],
   "source": [
    "yas = int(input(\"Yaşınızı giriniz:\"))\n",
    "\n",
    "if yas>=18:\n",
    "    print(\"Ehliyet alabilirsiniz\")\n",
    "else:\n",
    "    print(\"Ehliyet alamazsınız\")"
   ]
  },
  {
   "cell_type": "markdown",
   "id": "46781527-de30-439d-b841-a568659c5e4b",
   "metadata": {},
   "source": [
    "# Soru 7: İndirimli fiyat hesaplama"
   ]
  },
  {
   "cell_type": "code",
   "execution_count": null,
   "id": "2bd9a9f2-e3aa-486e-94cb-db721647d4c9",
   "metadata": {},
   "outputs": [],
   "source": [
    "fiyat = float(input(\"Ürünün fiyatını giriniz:\"))\n",
    "indirim_orani = float(input(\"İndirim oranını (%) giriniz:\"))\n",
    "\n",
    "indirimli_fiyat = fiyat - (fiyat * indirim_orani / 100)\n",
    "print (f\"İndirimli fiyat: {indirimli_fiyat:.2f}\")"
   ]
  },
  {
   "cell_type": "markdown",
   "id": "bce2c8c1-c8e5-4ad3-a2aa-4aa78541d4aa",
   "metadata": {},
   "source": [
    "# Soru 8: Mantıksal operatörler"
   ]
  },
  {
   "cell_type": "code",
   "execution_count": null,
   "id": "47300d85-cd28-46f4-8118-727610368621",
   "metadata": {},
   "outputs": [],
   "source": [
    "x = True\n",
    "y = False\n",
    "\n",
    "print(\"x and y =\", x and y)\n",
    "print(\"x or y =\", x or y)\n",
    "print(\"not x =\", not x)\n",
    "print(\"not y =\", not y)"
   ]
  },
  {
   "cell_type": "markdown",
   "id": "b6815893-305b-444a-9eb6-0284c5489143",
   "metadata": {},
   "source": [
    "# Soru 9: Alışveriş sepeti"
   ]
  },
  {
   "cell_type": "code",
   "execution_count": null,
   "id": "ddba66cc-e246-47f4-914a-de7f9ce55b3e",
   "metadata": {},
   "outputs": [],
   "source": [
    "urun1 = float(input(\"1. ürünün fiyatını giriniz: \"))\n",
    "urun2 = float(input(\"2. ürünün fiyatını giriniz: \"))\n",
    "urun3 = float(input(\"3. ürünün fiyatını giriniz: \"))\n",
    "\n",
    "toplam = urun1 + urun2 + urun3\n",
    "\n",
    "print(\"Toplam fiyat:\", toplam)\n",
    "\n",
    "if toplam > 200:\n",
    "    indirimli_fiyat = toplam - (toplam * 0.10)\n",
    "    print(\"200 TL üzeri alışveriş yaptınız, %10 indirim kazandınız.\")\n",
    "    print(f\"İndirimli fiyat: {indirimli_fiyat:.2f} TL\")\n",
    "else:\n",
    "    print(f\"Ödenecek fiyat: {toplam:2f} TL\")"
   ]
  },
  {
   "cell_type": "markdown",
   "id": "bef08cd8-f288-40ab-8061-dce11e65526d",
   "metadata": {},
   "source": [
    "# Soru 10: Yaş hesaplama"
   ]
  },
  {
   "cell_type": "code",
   "execution_count": null,
   "id": "bf101963-49cc-41c8-ad3e-db0fe47e31d6",
   "metadata": {},
   "outputs": [],
   "source": [
    "dogum_yili = int(input(\"Doğum yılınızı giriniz:\"))\n",
    "guncel_yil = 2025\n",
    "\n",
    "yas = guncel_yil - dogum_yili\n",
    "print(\"Yaşınız:\" , yas)\n",
    "\n",
    "if yas >= 0 and yas <= 12:\n",
    "    print(\"Çocuksunuz\")\n",
    "elif yas >= 13 and yas <=17:\n",
    "    print(\"Ergensiniz\")\n",
    "elif yas >=18:\n",
    "    print(\"Yetişkinsiniz\")\n",
    "else: \n",
    "    print(\"Geçersiz yaş girdiniz!\")  "
   ]
  }
 ],
 "metadata": {
  "kernelspec": {
   "display_name": "Python 3 (ipykernel)",
   "language": "python",
   "name": "python3"
  },
  "language_info": {
   "codemirror_mode": {
    "name": "ipython",
    "version": 3
   },
   "file_extension": ".py",
   "mimetype": "text/x-python",
   "name": "python",
   "nbconvert_exporter": "python",
   "pygments_lexer": "ipython3",
   "version": "3.13.1"
  }
 },
 "nbformat": 4,
 "nbformat_minor": 5
}
