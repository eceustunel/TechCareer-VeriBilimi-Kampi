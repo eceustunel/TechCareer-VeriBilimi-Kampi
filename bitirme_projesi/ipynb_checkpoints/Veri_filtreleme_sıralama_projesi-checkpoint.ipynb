{
 "cells": [
  {
   "cell_type": "code",
   "execution_count": 4,
   "id": "985fd0da",
   "metadata": {},
   "outputs": [
    {
     "name": "stdout",
     "output_type": "stream",
     "text": [
      "Nüfusa göre azalan sırada ilk 10 ülke:\n",
      "            Country  Population\n",
      "42           China   1313973713\n",
      "94           India   1095351995\n",
      "214  United States    298444215\n",
      "95       Indonesia    245452739\n",
      "27          Brazil    188078227\n",
      "156       Pakistan    165803560\n",
      "16      Bangladesh    147365352\n",
      "169         Russia    142893540\n",
      "152        Nigeria    131859731\n",
      "103          Japan    127463611\n"
     ]
    }
   ],
   "source": [
    "import pandas as pd\n",
    "\n",
    "data = pd.read_csv('../country.csv')\n",
    "data\n",
    "\n",
    "nufusa_gore_azalan = data.sort_values('Population', ascending=False)\n",
    "print(\"Nüfusa göre azalan sırada ilk 10 ülke:\")\n",
    "print(nufusa_gore_azalan[['Country', 'Population']].head(10))"
   ]
  },
  {
   "cell_type": "code",
   "execution_count": 5,
   "id": "193a4d86",
   "metadata": {},
   "outputs": [
    {
     "name": "stdout",
     "output_type": "stream",
     "text": [
      "GDP per capita'ya göre artan sırada ilk 10 ülke:\n",
      "               Country  GDP ($ per capita)\n",
      "58         East Timor                500.0\n",
      "183      Sierra Leone                500.0\n",
      "188           Somalia                500.0\n",
      "33            Burundi                600.0\n",
      "125            Malawi                600.0\n",
      "200          Tanzania                600.0\n",
      "74         Gaza Strip                600.0\n",
      "44            Comoros                700.0\n",
      "45   Congo, Dem. Rep.                700.0\n",
      "65           Ethiopia                700.0\n"
     ]
    }
   ],
   "source": [
    "import pandas as pd\n",
    "\n",
    "data = pd.read_csv('../country.csv')\n",
    "data\n",
    "\n",
    "gdp_artan = data.sort_values('GDP ($ per capita)', ascending=True)\n",
    "print(\"GDP per capita'ya göre artan sırada ilk 10 ülke:\")\n",
    "print(gdp_artan[['Country', 'GDP ($ per capita)']].head(10))"
   ]
  },
  {
   "cell_type": "code",
   "execution_count": 6,
   "id": "858e369f",
   "metadata": {},
   "outputs": [
    {
     "name": "stdout",
     "output_type": "stream",
     "text": [
      "Nüfusu 10 milyonun üzerinde olan ülke sayısı: 79\n",
      "\n",
      "Nüfusu 10 milyonun üzerinde olan ülkeler:\n",
      "             Country  Population\n",
      "42            China   1313973713\n",
      "94            India   1095351995\n",
      "214   United States    298444215\n",
      "95        Indonesia    245452739\n",
      "27           Brazil    188078227\n",
      "..               ...         ...\n",
      "164        Portugal     10605870\n",
      "19          Belgium     10379067\n",
      "18          Belarus     10293011\n",
      "53   Czech Republic     10235455\n",
      "205         Tunisia     10175014\n",
      "\n",
      "[79 rows x 2 columns]\n"
     ]
    }
   ],
   "source": [
    "import pandas as pd\n",
    "\n",
    "data = pd.read_csv('../country.csv')\n",
    "data\n",
    "\n",
    "nufus_10m_ustu = data[data['Population'] > 10000000]\n",
    "print(f\"Nüfusu 10 milyonun üzerinde olan ülke sayısı: {len(nufus_10m_ustu)}\")\n",
    "print(\"\\nNüfusu 10 milyonun üzerinde olan ülkeler:\")\n",
    "print(nufus_10m_ustu[['Country', 'Population']].sort_values('Population', ascending=False))"
   ]
  },
  {
   "cell_type": "code",
   "execution_count": 7,
   "id": "ca697611",
   "metadata": {},
   "outputs": [
    {
     "name": "stdout",
     "output_type": "stream",
     "text": [
      "En yüksek okur-yazarlık oranına sahip ilk 5 ülke:\n",
      "             Country Literacy (%)\n",
      "53   Czech Republic          99,9\n",
      "93          Iceland          99,9\n",
      "163          Poland          99,8\n",
      "114          Latvia          99,8\n",
      "64          Estonia          99,8\n"
     ]
    }
   ],
   "source": [
    "import pandas as pd\n",
    "\n",
    "data = pd.read_csv('../country.csv')\n",
    "data\n",
    "\n",
    "en_yuksek_literacy = data.sort_values('Literacy (%)', ascending=False)\n",
    "print(\"En yüksek okur-yazarlık oranına sahip ilk 5 ülke:\")\n",
    "print(en_yuksek_literacy[['Country', 'Literacy (%)']].head(5))"
   ]
  },
  {
   "cell_type": "code",
   "execution_count": 8,
   "id": "f9951920",
   "metadata": {},
   "outputs": [
    {
     "name": "stdout",
     "output_type": "stream",
     "text": [
      "GDP per capita'sı 10.000'in üzerinde olan ülke sayısı: 76\n",
      "\n",
      "GDP per capita'sı 10.000'in üzerinde olan ülkeler:\n",
      "                Country  GDP ($ per capita)\n",
      "121         Luxembourg              55100.0\n",
      "154             Norway              37800.0\n",
      "214      United States              37800.0\n",
      "22             Bermuda              36000.0\n",
      "38      Cayman Islands              35000.0\n",
      "..                  ...                 ...\n",
      "163             Poland              11100.0\n",
      "7    Antigua & Barbuda              11000.0\n",
      "189       South Africa              10700.0\n",
      "50             Croatia              10600.0\n",
      "114             Latvia              10200.0\n",
      "\n",
      "[76 rows x 2 columns]\n"
     ]
    }
   ],
   "source": [
    "import pandas as pd\n",
    "\n",
    "data = pd.read_csv('../country.csv')\n",
    "data\n",
    "\n",
    "gdp_10k_ustu = data[data['GDP ($ per capita)'] > 10000]\n",
    "print(f\"GDP per capita'sı 10.000'in üzerinde olan ülke sayısı: {len(gdp_10k_ustu)}\")\n",
    "print(\"\\nGDP per capita'sı 10.000'in üzerinde olan ülkeler:\")\n",
    "print(gdp_10k_ustu[['Country', 'GDP ($ per capita)']].sort_values('GDP ($ per capita)', ascending=False))"
   ]
  },
  {
   "cell_type": "code",
   "execution_count": 9,
   "id": "21370134",
   "metadata": {},
   "outputs": [
    {
     "name": "stdout",
     "output_type": "stream",
     "text": [
      "En yüksek nüfus yoğunluğuna sahip ilk 10 ülke:\n",
      "         Country Pop. Density (per sq. mi.)\n",
      "9       Armenia                        99,9\n",
      "186    Slovenia                        99,2\n",
      "202        Togo                        97,7\n",
      "12      Austria                        97,7\n",
      "168     Romania                        93,9\n",
      "77        Ghana                        93,6\n",
      "140  Montserrat                        92,5\n",
      "13   Azerbaijan                        91,9\n",
      "56     Dominica                        91,4\n",
      "206      Turkey                        90,2\n"
     ]
    }
   ],
   "source": [
    "import pandas as pd\n",
    "\n",
    "data = pd.read_csv('../country.csv')\n",
    "data\n",
    "\n",
    "en_yuksek_nufus_yogunlugu = data.sort_values('Pop. Density (per sq. mi.)', ascending=False)\n",
    "print(\"En yüksek nüfus yoğunluğuna sahip ilk 10 ülke:\")\n",
    "print(en_yuksek_nufus_yogunlugu[['Country', 'Pop. Density (per sq. mi.)']].head(10))"
   ]
  }
 ],
 "metadata": {
  "kernelspec": {
   "display_name": "base",
   "language": "python",
   "name": "python3"
  },
  "language_info": {
   "codemirror_mode": {
    "name": "ipython",
    "version": 3
   },
   "file_extension": ".py",
   "mimetype": "text/x-python",
   "name": "python",
   "nbconvert_exporter": "python",
   "pygments_lexer": "ipython3",
   "version": "3.13.5"
  }
 },
 "nbformat": 4,
 "nbformat_minor": 5
}
