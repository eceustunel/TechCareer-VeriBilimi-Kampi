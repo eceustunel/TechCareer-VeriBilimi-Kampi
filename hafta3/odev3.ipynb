{
 "cells": [
  {
   "cell_type": "markdown",
   "id": "f16db813-9f17-42a2-8ac3-79c58df36a71",
   "metadata": {},
   "source": [
    "# Soru 1 - Liste Metotları"
   ]
  },
  {
   "cell_type": "code",
   "execution_count": null,
   "id": "9d08201f-3da8-4ef5-bc0c-5e5ba3dfd1e9",
   "metadata": {},
   "outputs": [],
   "source": [
    "notlar = [85, 92, 76, 92, 100, 76, 85, 92]\n",
    "\n",
    "benzersiz_notlar = list(set(notlar)) # tekrar eden notları silip benzersiz bir liste oluştur\n",
    "\n",
    "en_yuksek = max(notlar)\n",
    "en_dusuk = min(notlar) # en yüksek ve en düşük not\n",
    "\n",
    "sirali_notlar = sorted(benzersiz_notlar) # küçükten büyüğe sırala\n",
    "\n",
    "print(\"Benzersiz notlar:\", benzersiz_notlar)\n",
    "print(\"En yüksek not:\", en_yuksek)\n",
    "print(\"En düşük not:\", en_dusuk)\n",
    "print(\"Küçükten büyüğe sıralı:\", sirali_notlar)"
   ]
  },
  {
   "cell_type": "markdown",
   "id": "56de02f4-744e-4d4c-babc-a31ad2d3b7b4",
   "metadata": {},
   "source": [
    "# Soru 2 - Armstrong Sayısı Kontrolü"
   ]
  },
  {
   "cell_type": "code",
   "execution_count": null,
   "id": "ee93aacd-be45-46cd-aeb9-b55a775f2b14",
   "metadata": {},
   "outputs": [],
   "source": [
    "def armstrong_mu(sayi):\n",
    "    basamaklar = [int(x) for x in str(sayi)] #sayıyı stringe çevirip her basamağı al\n",
    "    toplam = sum([b**3 for b in basamaklar]) #küpleri topla\n",
    "    return toplam == sayi\n",
    "\n",
    "test_sayilar = [153, 370, 371, 407, 123, 200]\n",
    "for s in test_sayilar:\n",
    "    print(f\"{s}: {armstrong_mu(s)}\") #test et "
   ]
  },
  {
   "cell_type": "markdown",
   "id": "0479a570-2b69-4fe7-936a-4092277f1200",
   "metadata": {},
   "source": [
    "# Soru 3 - Kümeler"
   ]
  },
  {
   "cell_type": "code",
   "execution_count": null,
   "id": "1ceb030a-4070-4567-a763-8285c215a05b",
   "metadata": {},
   "outputs": [],
   "source": [
    "A = {\"Python\", \"R\", \"SQL\", \"Java\"}\n",
    "B = {\"C++\", \"Python\", \"JavaScript\", \"SQL\"}\n",
    "\n",
    "ortak = A.intersection(B)  #ortak diller(kesişim)\n",
    "sadece_A = A.difference(B) #sadece A'da olanlar(fark)\n",
    "birlesim = sorted(A.union(B)) #iki kümenin birleşimi(alfabetik)\n",
    "\n",
    "print(\"Ortak diller:\", ortak)\n",
    "print(\"Sadece A'da olan diller:\", sadece_A)\n",
    "print(\"Birleşim(alfabetik):\", birlesim)"
   ]
  },
  {
   "cell_type": "markdown",
   "id": "04eaad19-1217-4da7-a30c-e0c4439332fa",
   "metadata": {},
   "source": [
    "# Soru 4 - Modüller"
   ]
  },
  {
   "cell_type": "code",
   "execution_count": null,
   "id": "585e2302-201d-4aff-8a1d-8f4ced0398c3",
   "metadata": {},
   "outputs": [],
   "source": [
    "import random\n",
    "import statistics\n",
    "\n",
    "sayilar = [random.randint(1,100) for _ in range (10)] #1-100 arasında 10 tane rastgele sayı üret\n",
    "\n",
    "ortalama = statistics.mean(sayilar)\n",
    "std_sapma = statistics.stdev(sayilar) #ortalama ve standart sapma\n",
    "\n",
    "print(\"Üretilen sayılar:\", sayilar)\n",
    "print(\"Ortalama:\", ortalama)\n",
    "print(\"Standart sapma:\", std_sapma)"
   ]
  },
  {
   "cell_type": "markdown",
   "id": "974f7a53-2ff7-42ae-93f8-4285c3538a4f",
   "metadata": {},
   "source": [
    "# Soru 5 - Fonksiyonlar"
   ]
  },
  {
   "cell_type": "code",
   "execution_count": null,
   "id": "57e99685-d188-40a8-a761-bd339655c261",
   "metadata": {},
   "outputs": [],
   "source": [
    "from collections import Counter\n",
    "\n",
    "def kelime_sayaci(metin):\n",
    "    for nok in \".,!?;:\":\n",
    "        metin = metin.replace(nok, \"\") #noktalama işaretlerini temizle(opsiyonel)\n",
    "\n",
    "    kelimeler = metin.split() #kelimeleri liste halinde al\n",
    "    toplam = len(kelimeler) #toplam kelime sayısı\n",
    "    en_uzun = max(kelimeler, key=len) #en uzun kelime\n",
    "\n",
    "    frekans = Counter(kelimeler) \n",
    "    en_sik = frekans.most_common(1)[0][0] #en sık geçen kelimeler\n",
    "\n",
    "    return toplam, en_uzun, en_sik\n",
    "\n",
    "metin = \"Python veri bilimi öğrenmek çok zevkli veri analizi yapmak da güzel\"\n",
    "sonuc = kelime_sayaci(metin) #test et\n",
    "\n",
    "print(\"Toplam kelime sayısı:\", sonuc[0])\n",
    "print(\"En uzun kelime:\", sonuc[1])\n",
    "print(\"En sık geçen kelime:\", sonuc[2]) "
   ]
  },
  {
   "cell_type": "markdown",
   "id": "2256f97c-8bf2-46f8-bdba-9795526ab614",
   "metadata": {},
   "source": [
    "# Soru 6 - Gömülü Fonksiyonlar"
   ]
  },
  {
   "cell_type": "code",
   "execution_count": null,
   "id": "a1659aef-0042-4d02-b1e1-6629edb3b1fa",
   "metadata": {},
   "outputs": [],
   "source": [
    "sayilar = [5, 12, 7, 18, 24, 3, 16]\n",
    "\n",
    "ciftler = list(filter(lambda x: x % 2 == 0, sayilar)) #çift sayıları filtrele\n",
    "kareler = list(map(lambda x: x**2, ciftler)) #kareleri bul\n",
    "sirali = sorted(kareler, reverse = True) #büyükten küçüğe sırala\n",
    "\n",
    "print(\"Orijinal liste:\", sayilar)\n",
    "print(\"Çift sayılar:\", ciftler)\n",
    "print(\"Kareleri:\", kareler)\n",
    "print(\"Azalan sırada kareler:\", sirali)"
   ]
  },
  {
   "cell_type": "markdown",
   "id": "a8f8a8de-ce51-4b3b-a1d9-7ed857f11eb0",
   "metadata": {},
   "source": [
    "# Soru 7 - Lambda İfadeleri"
   ]
  },
  {
   "cell_type": "code",
   "execution_count": null,
   "id": "ef2573e1-119c-4ae3-a92b-7b71daacc471",
   "metadata": {},
   "outputs": [],
   "source": [
    "kelimeler = [\"veri\", \"bilim\", \"analiz\", \"yapayzeka\", \"python\"]\n",
    "\n",
    "sirali = sorted(kelimeler, key=lambda kelime: len(kelime)) #sorted + lambda: kelime uzunluğunu key olarak al\n",
    "\n",
    "print(\"Orijinal liste:\", kelimeler)\n",
    "print(\"Uzunluğa göre sıralı:\", sirali)"
   ]
  },
  {
   "cell_type": "markdown",
   "id": "4627e7e7-20a4-4fce-9d4f-25aef519d491",
   "metadata": {},
   "source": [
    "# Soru 8 - Metodlar"
   ]
  },
  {
   "cell_type": "code",
   "execution_count": null,
   "id": "f4a891a5-230a-4872-a9c1-085d6997a1c6",
   "metadata": {},
   "outputs": [],
   "source": [
    "import re #regex fonksiyonu\n",
    "\n",
    "def rakam_toplami(metin):\n",
    "    sayilar = re.findall(r\"\\d+\", metin) #\\d+ → 1 veya daha fazla rakamı yakalar (örn: 12, 3, 45)\n",
    "    toplam = sum(int(s) for s in sayilar) #bulunan stringleri int'e çevirip topla\n",
    "    return toplam\n",
    "\n",
    "print(rakam_toplami(\"abc12def3\"))\n",
    "print(rakam_toplami(\"burada sayi yok\"))\n",
    "print(rakam_toplami(\"ece2002ustunel2807\"))"
   ]
  },
  {
   "cell_type": "markdown",
   "id": "c1863c3f-b1d1-41f2-bcd9-b8a86b168cd7",
   "metadata": {},
   "source": [
    "# Soru 9 - Numpy 1"
   ]
  },
  {
   "cell_type": "code",
   "execution_count": null,
   "id": "1a3871fe-2298-4e65-8576-8fca67ce3441",
   "metadata": {},
   "outputs": [],
   "source": [
    "import numpy as np\n",
    "\n",
    "dizi = np.random.randint(0, 51, size=10)  #0 dahil, 51 hariç\n",
    "#10 elemanlı, 0-50 arası rastgele sayı dizisi oluştur\n",
    "print(\"Dizi:\", dizi)\n",
    "\n",
    "ortalama = np.mean(dizi)\n",
    "print(\"Ortalama:\", ortalama) #dizinin ortalaması\n",
    "\n",
    "std_sapma = np.std(dizi)\n",
    "print(\"Standart Sapma:\", std_sapma) #dizinin standart sapması\n",
    "\n",
    "en_buyuk = np.max(dizi)\n",
    "print(\"En Büyük Değer:\", en_buyuk) #dizinin en büyük değeri"
   ]
  },
  {
   "cell_type": "markdown",
   "id": "42709025-5b2d-4d18-b959-a716c8fa2489",
   "metadata": {},
   "source": [
    "# Soru 10 - Numpy 2"
   ]
  },
  {
   "cell_type": "code",
   "execution_count": null,
   "id": "379badf2-23e7-4b79-af03-e25e81a1e190",
   "metadata": {},
   "outputs": [],
   "source": [
    "import numpy as np\n",
    "\n",
    "matris = np.random.rand(5, 5) #5x5 boyutunda, 0-1 arası sayı matrisi\n",
    "#rand() → 0-1 arasında float üretir\n",
    "print(\"Orijinal Matris:\\n\", matris)\n",
    "\n",
    "sutun_ortalamalari = np.mean(matris, axis=0)\n",
    "print(\"\\nSütun Ortalamaları:\", sutun_ortalamalari) #her sütunun ortalaması\n",
    "\n",
    "binary_matris = (matris > 0.5).astype(int) #binary matrise çevirme: 0.5'ten büyük olanları 1, küçük eşit olanları 0\n",
    "print(\"\\nBinary Matris:\\n\", binary_matris)"
   ]
  }
 ],
 "metadata": {
  "kernelspec": {
   "display_name": "Python 3 (ipykernel)",
   "language": "python",
   "name": "python3"
  },
  "language_info": {
   "codemirror_mode": {
    "name": "ipython",
    "version": 3
   },
   "file_extension": ".py",
   "mimetype": "text/x-python",
   "name": "python",
   "nbconvert_exporter": "python",
   "pygments_lexer": "ipython3",
   "version": "3.13.1"
  }
 },
 "nbformat": 4,
 "nbformat_minor": 5
}
