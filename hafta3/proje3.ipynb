{
 "cells": [
  {
   "cell_type": "markdown",
   "id": "6a2cda9e-5b54-46ad-97e1-990cda78de43",
   "metadata": {},
   "source": [
    "# Kitap Satış Analiz Sistemi"
   ]
  },
  {
   "cell_type": "code",
   "execution_count": null,
   "id": "ed8a6930-881e-488c-baf9-edec44b1749d",
   "metadata": {},
   "outputs": [],
   "source": [
    "import random\n",
    "import statistics\n",
    "import pandas as pd\n",
    "\n",
    "#Örnek Veri\n",
    "kitaplar = [ \n",
    "    {\"isim\": \"Veri Bilimi 101\", \"yazar\": \"Ali\", \"tur\": \"Bilim\", \"satis\": 1200, \"yil\": 2021}, \n",
    "    {\"isim\": \"Python ile Yapay Zeka\", \"yazar\": \"Ayşe\", \"tur\": \"Bilim\", \"satis\": 950, \"yil\": 2020}, \n",
    "    {\"isim\": \"İstatistik Temelleri\", \"yazar\": \"Ali\", \"tur\": \"Akademik\", \"satis\": 700, \"yil\": 2019}, \n",
    "    {\"isim\": \"Makine Öğrenmesi\", \"yazar\": \"Can\", \"tur\": \"Bilim\", \"satis\": 1800, \"yil\": 2022}, \n",
    "    {\"isim\": \"Veri Görselleştirme\", \"yazar\": \"Deniz\", \"tur\": \"Sanat\", \"satis\": 400, \"yil\": 2018}, \n",
    "    {\"isim\": \"Matematiksel Modelleme\", \"yazar\": \"Ali\", \"tur\": \"Akademik\", \"satis\": 1500, \"yil\": 2021}, \n",
    "    {\"isim\": \"Bilgi Toplumu\", \"yazar\": \"Ayşe\", \"tur\": \"Sosyal\", \"satis\": 600, \"yil\": 2022} \n",
    "] \n",
    "\n",
    "#Pandas DataFrame olarak görüntüle\n",
    "df = pd.DataFrame(kitaplar)\n",
    "df "
   ]
  },
  {
   "cell_type": "markdown",
   "id": "ed5606ab-3815-4a27-8e81-16586eeae81b",
   "metadata": {},
   "source": [
    "# Fonksiyonlar"
   ]
  },
  {
   "cell_type": "code",
   "execution_count": 3,
   "id": "d8703590-1b5a-43c9-91ae-0484764d7885",
   "metadata": {},
   "outputs": [
    {
     "name": "stdout",
     "output_type": "stream",
     "text": [
      "En çok satan kitap: Makine Öğrenmesi\n",
      "Yazar Satışları: {'Ali': 3400, 'Ayşe': 1550, 'Can': 1800, 'Deniz': 400}\n"
     ]
    }
   ],
   "source": [
    "#En çok satan kitabı bul\n",
    "def en_cok_satan(kitaplar):\n",
    "    return max(kitaplar, key=lambda k: k['satis'])\n",
    "\n",
    "#Her yazarın toplam satışını hesapla\n",
    "def yazar_satislari(kitaplar):\n",
    "    satis_dict = {}\n",
    "    for kitap in kitaplar:\n",
    "        satis_dict[kitap['yazar']] = satis_dict.get(kitap['yazar'], 0) + kitap['satis']\n",
    "    return satis_dict\n",
    "\n",
    "print(\"En çok satan kitap:\", en_cok_satan(kitaplar)['isim'])\n",
    "print(\"Yazar satışları:\", yazar_satislari(kitaplar))"
   ]
  },
  {
   "cell_type": "markdown",
   "id": "a73dcee5-d685-4ff7-90bc-f3da50b4d97d",
   "metadata": {},
   "source": [
    "# Liste ve Küme İşlemleri"
   ]
  },
  {
   "cell_type": "code",
   "execution_count": null,
   "id": "daf5be2e-12c7-421e-8f47-fef2e582c2f5",
   "metadata": {},
   "outputs": [],
   "source": [
    "#Tüm kitap türleri (küme)\n",
    "turler = {kitap['tur'] for kitap in kitaplar}\n",
    "print(\"Türler:\", turler)\n",
    "\n",
    "#Satış adedi 1000'den fazla olan kitaplar\n",
    "yuksek_satis_kitaplari = [kitap['isim'] for kitap in kitaplar if kitap['satis'] > 1000]\n",
    "print(\"1000'den fazla satan kitaplar:\", yuksek_satis_kitaplari)"
   ]
  },
  {
   "cell_type": "markdown",
   "id": "19521bd0-9bd8-4609-8ce6-931b2092ae4f",
   "metadata": {},
   "source": [
    "# Lambda / Filter / Map"
   ]
  },
  {
   "cell_type": "code",
   "execution_count": null,
   "id": "114ca138-9373-4c72-827a-a7be439aba74",
   "metadata": {},
   "outputs": [],
   "source": [
    "#2020'den sonra çıkan kitaplar\n",
    "kitaplar_2020_sonra = list(filter(lambda k: k['yil'] > 2020, kitaplar))\n",
    "print(\"2020'den sonra çıkan kitaplar:\", [k['isim'] for k in kitaplar_2020_sonra])\n",
    "\n",
    "#Satışları %10 arttır\n",
    "satis_arttirilmis = list(map(lambda k: round(k['satis'] * 1.1, 2), kitaplar)) #fazla sıfırı önle(round)\n",
    "print(\"Satışları %10 arttırılmış:\", satis_arttirilmis)\n",
    "\n",
    "satis_sirali = sorted(kitaplar, key=lambda k: k['satis'], reverse = True)\n",
    "print(\"Satışa göre azalan sıralama:\", [k['isim'] for k in satis_sirali])"
   ]
  },
  {
   "cell_type": "markdown",
   "id": "838b7ef3-882d-4e2f-b1f0-aa088614d123",
   "metadata": {},
   "source": [
    "# İstatistiksel Analiz"
   ]
  },
  {
   "cell_type": "code",
   "execution_count": null,
   "id": "42041d19-5d9d-421e-ad9d-dcb83a814067",
   "metadata": {},
   "outputs": [],
   "source": [
    "#Ortalama satış\n",
    "ortalama_satis = statistics.mean([kitap['satis'] for kitap in kitaplar])\n",
    "print(\"Ortalama satış:\", ortalama_satis)\n",
    "\n",
    "#En çok satış yapan tür\n",
    "tur_satislari = {}\n",
    "for kitap in kitaplar:\n",
    "    tur_satislari[kitap['tur']] = tur_satislari.get(kitap['tur'], 0) + kitap['satis']\n",
    "en_cok_satan_tur = max(tur_satislari, key=tur_satislari.get)\n",
    "print(\"En çok satış yapan tür:\", en_cok_satan_tur)\n",
    "\n",
    "#Satışların standart sapması\n",
    "std_sapma = statistics.stdev([kitap['satis'] for kitap in kitaplar])\n",
    "print(\"Satışların standart sapması:\", std_sapma)"
   ]
  },
  {
   "cell_type": "markdown",
   "id": "e23b79c9-7867-4478-bd79-9018676d729d",
   "metadata": {},
   "source": [
    "# Train / Test Simülasyonu"
   ]
  },
  {
   "cell_type": "code",
   "execution_count": 15,
   "id": "e23d3182-f300-40cc-97bd-d70895e45c1a",
   "metadata": {},
   "outputs": [
    {
     "name": "stdout",
     "output_type": "stream",
     "text": [
      "\n",
      "Train set: ['Bilgi Toplumu', 'Veri Görselleştirme', 'Veri Bilimi 101', 'Python ile Yapay Zeka']\n",
      "Test set: ['Makine Öğrenmesi', 'İstatistik Temelleri', 'Matematiksel Modelleme']\n",
      "Train setinde yazarların ortalama satışları: {'Deniz': 400, 'Ali': 1200, 'Ayşe': 775}\n",
      "Test setinde ortalamanın üzerinde satan kitaplar: ['Makine Öğrenmesi', 'Matematiksel Modelleme']\n"
     ]
    }
   ],
   "source": [
    "#Rastgele %70 train, %30 test\n",
    "random.shuffle(kitaplar)\n",
    "n_train = int(0.7 * len(kitaplar))\n",
    "train_set = kitaplar[:n_train]\n",
    "test_set = kitaplar[n_train:]\n",
    "\n",
    "print(\"\\nTrain set:\", [k['isim'] for k in train_set])\n",
    "print(\"Test set:\", [k['isim'] for k in test_set])\n",
    "\n",
    "#Train setinde yazarların ortalama satışları\n",
    "yazar_ortalama_train = {}\n",
    "for yazar in set(k['yazar'] for k in train_set):\n",
    "    yazar_ortalama_train[yazar] = statistics.mean([k['satis'] for k in train_set if k['yazar']==yazar])\n",
    "print(\"Train setinde yazarların ortalama satışları:\", yazar_ortalama_train)\n",
    "\n",
    "#Test setinde ortalamanın üzerinde satan kitaplar\n",
    "ust_ortalama_kitaplar = [k['isim'] for k in test_set if k['satis'] > ortalama_satis]\n",
    "print(\"Test setinde ortalamanın üzerinde satan kitaplar:\", ust_ortalama_kitaplar)"
   ]
  },
  {
   "cell_type": "code",
   "execution_count": null,
   "id": "c708ba10-6b78-401a-b2d6-0da1d72f7206",
   "metadata": {},
   "outputs": [],
   "source": []
  }
 ],
 "metadata": {
  "kernelspec": {
   "display_name": "Python 3 (ipykernel)",
   "language": "python",
   "name": "python3"
  },
  "language_info": {
   "codemirror_mode": {
    "name": "ipython",
    "version": 3
   },
   "file_extension": ".py",
   "mimetype": "text/x-python",
   "name": "python",
   "nbconvert_exporter": "python",
   "pygments_lexer": "ipython3",
   "version": "3.13.1"
  }
 },
 "nbformat": 4,
 "nbformat_minor": 5
}
