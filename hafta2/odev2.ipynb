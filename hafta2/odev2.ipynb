{
 "cells": [
  {
   "cell_type": "markdown",
   "id": "30610663-e128-4938-a707-a861c784ec86",
   "metadata": {},
   "source": [
    "## Soru 1 - Sayı Analizi"
   ]
  },
  {
   "cell_type": "code",
   "execution_count": null,
   "id": "aba09177-71c8-4cca-8c9b-9cfb88a64398",
   "metadata": {},
   "outputs": [],
   "source": [
    "sayi = int(input(\"Bir sayı giriniz:\")) #kullanıcıdan sayı al\n",
    "\n",
    "if sayi > 0:\n",
    "    durum = \"pozitif\"\n",
    "elif sayi < 0:\n",
    "    durum = \"negatif\"\n",
    "else:\n",
    "    durum = \"sıfır\" #pozitif/negatif/sıfır kontrolü\n",
    "\n",
    "if sayi == 0:\n",
    "    sonuc = durum\n",
    "elif sayi % 2 == 0:\n",
    "    sonuc = durum + \" çift\"\n",
    "else:\n",
    "    sonuc = durum + \" tek\" #tek/çift kontrolü\n",
    "\n",
    "print(\"Sonuç:\", sonuc) #sonucu yazdır"
   ]
  },
  {
   "cell_type": "markdown",
   "id": "dc9e77be-d640-4441-a95d-4645d3472027",
   "metadata": {},
   "source": [
    "## Soru 2 - Harf Frekansı"
   ]
  },
  {
   "cell_type": "code",
   "execution_count": null,
   "id": "b761865a-6054-41ae-9d53-91fdc4dff9f1",
   "metadata": {},
   "outputs": [],
   "source": [
    "kelime = input(\"Bir kelime giriniz:\") #kullanıcıdan kelime al\n",
    "\n",
    "frekans = {} #boş bir dictionary oluştur\n",
    "\n",
    "for harf in kelime:\n",
    "    if harf in frekans:\n",
    "        frekans[harf] += 1\n",
    "    else:\n",
    "        frekans[harf] = 1 #her harfi say\n",
    "\n",
    "print(\"Harf frekansı:\", frekans) #sonucu yazdır       "
   ]
  },
  {
   "cell_type": "markdown",
   "id": "ddd32bdb-96a3-4f78-ae61-73f6c0b319f2",
   "metadata": {},
   "source": [
    "## Soru 3 - Şifre Kontrolü"
   ]
  },
  {
   "cell_type": "code",
   "execution_count": null,
   "id": "d92732cd-11da-4eb6-8478-24846c4893ad",
   "metadata": {},
   "outputs": [],
   "source": [
    "sifre = input(\"Bir şifre giriniz:\") #kullanıcıdan şifre al\n",
    "\n",
    "uzunluk_dogru = len(sifre) >= 8\n",
    "buyuk_harf_var =any(ch.isupper() for ch in sifre)\n",
    "rakam_var = any(ch.isdigit() for ch in sifre) #koşulları kontrol et\n",
    "\n",
    "if uzunluk_dogru and buyuk_harf_var and rakam_var:\n",
    "    print(\"Şifre geçerli ✅\")\n",
    "else:\n",
    "    print(\"Şifre geçersiz ❌\")\n",
    "    if not uzunluk_dogru:\n",
    "        print(\"En az 8 karakter olmalı\")\n",
    "    if not buyuk_harf_var:\n",
    "        print(\"En az 1 büyük harf içermeli\")\n",
    "    if not rakam_var:\n",
    "        print(\"En az 1 rakam içermeli\") #sonucu yazdır"
   ]
  },
  {
   "cell_type": "markdown",
   "id": "7b5c3593-5d18-496c-b587-c851a67a8008",
   "metadata": {},
   "source": [
    "## Soru 4 - Liste İşlemleri"
   ]
  },
  {
   "cell_type": "code",
   "execution_count": null,
   "id": "98c286bf-9134-4d90-b7bc-a1af0862b4a7",
   "metadata": {},
   "outputs": [],
   "source": [
    "liste = [12, 4 , 9, 25 , 30 , 7 , 18]\n",
    "\n",
    "ortalama = sum(liste) / len(liste) #ortalama hesapla\n",
    "\n",
    "ortalamadan_buyukler = [x for x in liste if x > ortalama] #ortalamadan büyük sayıları filtrele\n",
    "\n",
    "print(\"Liste:\", liste)\n",
    "print(\"Ortalama:\", ortalama)\n",
    "print(\"Ortalamadan büyük sayılar:\", ortalamadan_buyukler) #sonucu yazdır"
   ]
  },
  {
   "cell_type": "markdown",
   "id": "0007d83f-18a0-4259-9dc9-458c6e48096d",
   "metadata": {},
   "source": [
    "## Soru 5 - Nested Loop (Desen)"
   ]
  },
  {
   "cell_type": "code",
   "execution_count": null,
   "id": "287944ee-1a87-4368-adcd-53a5ec8aa383",
   "metadata": {},
   "outputs": [],
   "source": [
    "satir_sayisi = 5\n",
    "\n",
    "for i in range(1, satir_sayisi + 1):\n",
    "    print('*' * i)"
   ]
  },
  {
   "cell_type": "markdown",
   "id": "28b0a676-e883-4ab6-9598-a52e81e3ac33",
   "metadata": {},
   "source": [
    "## Soru 6 - While Döngüsü"
   ]
  },
  {
   "cell_type": "code",
   "execution_count": null,
   "id": "d27a64e7-14e5-447d-9783-6b94c5854f80",
   "metadata": {},
   "outputs": [],
   "source": [
    "toplam = 0\n",
    "adet = 0 #toplam ve sayı adedini tutacak değişkenler\n",
    "\n",
    "while True: #sonsuz döngü başlat\n",
    "    \n",
    "    sayi = int(input(\"Bir sayı giriniz (0 ile çıkış):\")) #kullanıcıdan sayı al\n",
    "    if sayi == 0:\n",
    "        break #sayı 0 ise döngüden çık\n",
    "        \n",
    "    toplam += sayi\n",
    "    adet += 1 #toplam ve sayıyı güncelle\n",
    "\n",
    "if adet > 0:\n",
    "    ortalama = toplam / adet\n",
    "else:\n",
    "    ortalama = 0 #ortalama hesabı\n",
    "\n",
    "print(\"Girilen sayıların toplamı:\", toplam)\n",
    "print(\"Girilen sayıların ortalaması:\", ortalama) #sonucu yazdır"
   ]
  },
  {
   "cell_type": "markdown",
   "id": "48687dbd-2384-4154-b215-2ff744428540",
   "metadata": {},
   "source": [
    "## Soru 7 – Palindrom Kontrolü"
   ]
  },
  {
   "cell_type": "code",
   "execution_count": null,
   "id": "23f7737a-efdc-4ddb-9f48-f4acba59124d",
   "metadata": {},
   "outputs": [],
   "source": [
    "kelime = input(\"Bir kelime giriniz:\") #kullanıcıdan kelime al\n",
    "\n",
    "ters_kelime = kelime[::-1] #kelimenin tersini al\n",
    "\n",
    "if kelime == ters_kelime:\n",
    "    print(\"Palindrom ✅\")\n",
    "else:\n",
    "    print(\"Palindrom değil ❌\") #sonucu yazdır"
   ]
  },
  {
   "cell_type": "markdown",
   "id": "ff1aedfb-d5c3-47b6-9bef-73a7a08248fc",
   "metadata": {},
   "source": [
    "## Soru 8 - List Comprehension"
   ]
  },
  {
   "cell_type": "code",
   "execution_count": null,
   "id": "5f44bfd6-061c-4003-b601-622044a01188",
   "metadata": {},
   "outputs": [],
   "source": [
    "kareler = [x**2 for x in range(1, 101) if x % 3 == 0 and x % 5 == 0] #1'den 100'e kadar sayılardan hem 3'e hem 5'e bölünebilenlerin karelerini listele\n",
    "\n",
    "print(\"Hem 3'e hem 5'e bölünen sayıların kareleri:\", kareler) #sonucu yazdır"
   ]
  },
  {
   "cell_type": "markdown",
   "id": "d818b799-56f4-40a3-a009-954c1de6043c",
   "metadata": {},
   "source": [
    "## Soru 9 - String İşlemleri"
   ]
  },
  {
   "cell_type": "code",
   "execution_count": null,
   "id": "0ef15fb1-3382-4133-ab67-35635cecf4a7",
   "metadata": {},
   "outputs": [],
   "source": [
    "cumle = input(\"Bir cümle giriniz:\") #kullanıcıdan cümle al\n",
    "\n",
    "kelimeler = cumle.split() #cümleyi kelimelere ayır\n",
    "\n",
    "kelimeler_buyuk = [kelime.capitalize() for kelime in kelimeler] #her kelimenin ilk harfini büyük yap ve yeni liste oluştur\n",
    "\n",
    "yeni_cumle = \" \".join(kelimeler_buyuk) # kelimeleri tekrar birleştirerek yeni cümle oluştur\n",
    "\n",
    "print(\"Yeni cümle:\", yeni_cumle) #sonucu yazdır"
   ]
  },
  {
   "cell_type": "markdown",
   "id": "5e7000a5-be4c-4baa-a3dd-da3e81e4da1a",
   "metadata": {},
   "source": [
    "## Mini Proje - Film Yorum Analizi"
   ]
  },
  {
   "cell_type": "code",
   "execution_count": null,
   "id": "7ad49f67-0c96-4096-829a-de45699fc4d2",
   "metadata": {},
   "outputs": [],
   "source": [
    "yorum_sayisi = 5\n",
    "yorumlar = []\n",
    "\n",
    "for i in range(yorum_sayisi):\n",
    "    yorum = input(f\"{i+1}. yorumu giriniz:\")\n",
    "    yorumlar.append(yorum) #kullanıcıdan yorumları al(örnek:5 yorum) \n",
    "\n",
    "uzunluklar = [len(y) for y in yorumlar] #her yorumun uzunluğunu bul\n",
    "\n",
    "iyi_sayisi = sum(1 for y in yorumlar if \"iyi\" in y.lower()) #\"iyi\" kelimesinin kaç yorumda geçtiğini say\n",
    "#küçük/büyük harf duyarlılığı için lower() kullanıldı\n",
    "\n",
    "en_uzun = max(yorumlar, key=len)\n",
    "en_kisa = min(yorumlar, key=len) #en uzun ve en kısa yorumu bul\n",
    "\n",
    "ortalama_uzunluk = sum(uzunluklar) / len(uzunluklar) # ortalama uzunluğu hesapla\n",
    "\n",
    "print(\"\\n---Film Yorumu Analizi Sonuçları---\")\n",
    "print(\"Toplam yorum sayısı:\", len(yorumlar))\n",
    "print('iyi\" geçen yorum sayısı:', iyi_sayisi)\n",
    "print(\"En uzun yorum:\", en_uzun)\n",
    "print(\"En kısa yorum:\", en_kisa)\n",
    "print(\"Ortalama uzunluk:\", round(ortalama_uzunluk, 1), \"karakter\") #sonuçları yazdır"
   ]
  }
 ],
 "metadata": {
  "kernelspec": {
   "display_name": "Python 3 (ipykernel)",
   "language": "python",
   "name": "python3"
  },
  "language_info": {
   "codemirror_mode": {
    "name": "ipython",
    "version": 3
   },
   "file_extension": ".py",
   "mimetype": "text/x-python",
   "name": "python",
   "nbconvert_exporter": "python",
   "pygments_lexer": "ipython3",
   "version": "3.13.1"
  }
 },
 "nbformat": 4,
 "nbformat_minor": 5
}
